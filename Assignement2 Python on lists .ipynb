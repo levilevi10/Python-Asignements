{
 "cells": [
  {
   "cell_type": "code",
   "execution_count": null,
   "metadata": {},
   "outputs": [],
   "source": [
    "#Python on Lists\n",
    "####Python Program to Find the Cumulative Sum of a List where the ith Element is the Sum of the First i+1 Elements From The Original List\n",
    "\n"
   ]
  },
  {
   "cell_type": "code",
   "execution_count": 2,
   "metadata": {},
   "outputs": [
    {
     "name": "stdout",
     "output_type": "stream",
     "text": [
      "2000\n",
      "2000\n"
     ]
    }
   ],
   "source": [
    "#Python Program to Find the Largest Number in a List\n",
    "a = [100,2000,5,-1,200]\n",
    "a.sort()\n",
    "print(a[-1])\n",
    "\n",
    "print(max(a))\n"
   ]
  },
  {
   "cell_type": "code",
   "execution_count": 3,
   "metadata": {},
   "outputs": [
    {
     "name": "stdout",
     "output_type": "stream",
     "text": [
      "200\n"
     ]
    }
   ],
   "source": [
    "#Python Program to Find the Second Largest Number in a List\n",
    "a = [100,2000,5,-1,200]\n",
    "a.sort()\n",
    "print(a[-2])"
   ]
  },
  {
   "cell_type": "code",
   "execution_count": 4,
   "metadata": {},
   "outputs": [
    {
     "name": "stdout",
     "output_type": "stream",
     "text": [
      "[2, 4, 6]\n",
      "[1, 3, 5]\n"
     ]
    }
   ],
   "source": [
    "#Python Program to Put Even and Odd elements in a List into Two Different Lists\n",
    "a = [1,2,3,4,5,6]\n",
    "even = []\n",
    "odd = []\n",
    "\n",
    "\n",
    "for i in a: \n",
    "    if i%2==0:\n",
    "        even.append(i)\n",
    "    else: \n",
    "        odd.append(i)\n",
    "print(even)\n",
    "print(odd)"
   ]
  },
  {
   "cell_type": "code",
   "execution_count": 5,
   "metadata": {},
   "outputs": [
    {
     "name": "stdout",
     "output_type": "stream",
     "text": [
      "[1, 2, 3, 4, 5, 5, 5, 6, 7, 9, 12, 24, 35, 43, 56, 534]\n"
     ]
    }
   ],
   "source": [
    "#Python Program to Merge Two Lists and Sort it\n",
    "l1 = [1,24,4,56,7,5,9]\n",
    "l2 = [2,3,5,6,5,35,534,43,12]\n",
    "for i in l2:\n",
    "    l1.append(i)\n",
    "l1.sort()\n",
    "print(l1)"
   ]
  },
  {
   "cell_type": "code",
   "execution_count": 25,
   "metadata": {},
   "outputs": [],
   "source": [
    "######## Skip Python Program to Sort the List According to the Second Element in Sublist\n"
   ]
  },
  {
   "cell_type": "code",
   "execution_count": 26,
   "metadata": {},
   "outputs": [],
   "source": [
    "#######Python Program to Find the Second Largest Number in a List Using Bubble Sort\n"
   ]
  },
  {
   "cell_type": "code",
   "execution_count": 6,
   "metadata": {},
   "outputs": [
    {
     "ename": "SyntaxError",
     "evalue": "invalid syntax (<ipython-input-6-a192a353e374>, line 6)",
     "output_type": "error",
     "traceback": [
      "\u001b[1;36m  File \u001b[1;32m\"<ipython-input-6-a192a353e374>\"\u001b[1;36m, line \u001b[1;32m6\u001b[0m\n\u001b[1;33m    sort by length\u001b[0m\n\u001b[1;37m          ^\u001b[0m\n\u001b[1;31mSyntaxError\u001b[0m\u001b[1;31m:\u001b[0m invalid syntax\n"
     ]
    }
   ],
   "source": [
    "#Python Program to Sort a List According to the Length of the Elements\n",
    "l = [1,11,111,2345,2,3,66,2342455243244,123134,425423452345,2354235,23452345235,2345,33232]\n",
    "\n",
    "\n",
    "stringify\n",
    "sort by length\n",
    "map "
   ]
  },
  {
   "cell_type": "code",
   "execution_count": 43,
   "metadata": {},
   "outputs": [
    {
     "name": "stdout",
     "output_type": "stream",
     "text": [
      "[1, 2, 3, 4, 5, 6, 7, 8, 9, 10, 11, 12]\n"
     ]
    }
   ],
   "source": [
    "#Python Program to Find the Union of two Lists\n",
    "l1 = [1,2,3,4,5,6,7,8,9]\n",
    "l2 = [5,6,7,8,9,10,11,12]\n",
    "l3 = l1+l2\n",
    "l4 = []\n",
    "for i in l3:\n",
    "    if i in l4:\n",
    "        pass\n",
    "    else: l4.append(i)\n",
    "print(l4)\n",
    "\n"
   ]
  },
  {
   "cell_type": "code",
   "execution_count": 7,
   "metadata": {},
   "outputs": [
    {
     "name": "stdout",
     "output_type": "stream",
     "text": [
      "[5, 6, 7, 8, 9]\n"
     ]
    }
   ],
   "source": [
    "#Python Program to Find the Intersection of Two Lists\n",
    "l1 = [1,2,3,4,5,6,7,8,9]\n",
    "l2 = [5,6,7,8,9,10,11,12]\n",
    "l3 = []\n",
    "for i in l1:\n",
    "    if i in l2:\n",
    "        l3.append(i)\n",
    "print(l3)"
   ]
  },
  {
   "cell_type": "code",
   "execution_count": 8,
   "metadata": {},
   "outputs": [
    {
     "data": {
      "text/plain": [
       "[(1, 1), (2, 4), (3, 9)]"
      ]
     },
     "execution_count": 8,
     "metadata": {},
     "output_type": "execute_result"
    }
   ],
   "source": [
    "#Python Program to Create a List of Tuples with the First Element as the Number and Second Element as the Square of the Number\n",
    "a,b,c=1,2,3\n",
    "l10= [(a,a**2),(b,b**2),(c,c**2)]\n",
    "l10\n"
   ]
  },
  {
   "cell_type": "code",
   "execution_count": null,
   "metadata": {},
   "outputs": [],
   "source": [
    "#Python Program to Find all Numbers in a Range which are Perfect Squares and Sum of all Digits in the Number is Less than 10 (You mean the initial number)\n",
    "from math import sqrt\n",
    "number = int(input(\"What is the number of your choice?\"))\n",
    "crosssum = sum(int(digit) for digit in str(number)) #aus dem Internet\n",
    "if crosssum > 9:\n",
    "    print(\"Crosssum too big\")\n",
    "\n",
    "elif sqrt(number) % 2 == 0.0 and sqrt(number) % 2 == 1.0:\n",
    "    print(\"Number is not Perfect Square\")\n",
    "else:\n",
    "    print(\"Number is feasable and Perfect Square is: \" + str(sqrt(number)))\n",
    "#print(sqrt(number)%2)"
   ]
  },
  {
   "cell_type": "code",
   "execution_count": 10,
   "metadata": {},
   "outputs": [
    {
     "name": "stdout",
     "output_type": "stream",
     "text": [
      "[9, 15, 12, 7, 15, 17, 9, 4, 17, 5, 4]\n"
     ]
    }
   ],
   "source": [
    "#Python Program to Generate Random Numbers from 1 to 20 and Append Them to the List\n",
    "from random import randint\n",
    "l = []\n",
    "while len(l)<11:\n",
    "    l.append(randint(1,20))\n",
    "print(l)\n"
   ]
  },
  {
   "cell_type": "code",
   "execution_count": null,
   "metadata": {},
   "outputs": [],
   "source": [
    "#Python program to Sort a List of Tuples in Increasing Order by the Last Element in Each Tuple\n"
   ]
  },
  {
   "cell_type": "code",
   "execution_count": 11,
   "metadata": {},
   "outputs": [
    {
     "name": "stdout",
     "output_type": "stream",
     "text": [
      "[9, 2, 3, 4, 5, 6, 7, 8, 1]\n"
     ]
    }
   ],
   "source": [
    "#Python Program to Swap the First and Last Value of a List\n",
    "l = [1,2,3,4,5,6,7,8,9]\n",
    "l[0], l[-1] = l[-1], l[0]\n",
    "print(l)"
   ]
  },
  {
   "cell_type": "code",
   "execution_count": null,
   "metadata": {},
   "outputs": [],
   "source": [
    "#Python Program to Remove the Duplicate Items from a List\n",
    "l = [1,1,2,3,4,4,5,6,6,6,6,\"hallo\", \"hallo\", \"bye\"]\n",
    "l1 = []\n",
    "for i in l:\n",
    "    if i in l1:\n",
    "        pass\n",
    "    else:\n",
    "        l1.append(i)\n",
    "print(l1)\n",
    "    "
   ]
  },
  {
   "cell_type": "code",
   "execution_count": 12,
   "metadata": {},
   "outputs": [
    {
     "name": "stdout",
     "output_type": "stream",
     "text": [
      "9\n"
     ]
    }
   ],
   "source": [
    "#Python Program to Read a List of Words and Return the Length of the Longest One\n",
    "l = [\"ok\", \"bye\", \"hello\", \"ya\", \"exception\"]\n",
    "k = 0\n",
    "for i in l:\n",
    "    if len(i) > k:\n",
    "        k = len(i)\n",
    "    else:\n",
    "        pass\n",
    "print(k)"
   ]
  },
  {
   "cell_type": "code",
   "execution_count": null,
   "metadata": {},
   "outputs": [],
   "source": [
    "print(\"hi\")"
   ]
  },
  {
   "cell_type": "code",
   "execution_count": null,
   "metadata": {},
   "outputs": [],
   "source": [
    "\n",
    "\n",
    "\n"
   ]
  },
  {
   "cell_type": "code",
   "execution_count": null,
   "metadata": {},
   "outputs": [],
   "source": []
  },
  {
   "cell_type": "code",
   "execution_count": null,
   "metadata": {},
   "outputs": [],
   "source": []
  },
  {
   "cell_type": "code",
   "execution_count": 14,
   "metadata": {},
   "outputs": [
    {
     "name": "stdout",
     "output_type": "stream",
     "text": [
      "What word you want to remove?hi\n",
      "What occurance of the word hi you want to remove?2\n",
      "removed hi on occurance number 2 after 3 iterations\n",
      "['hello', 'hi', 'hello', 'Bye', 'hello', 'Bye', 'hello', 'hello', 'hi', 'hi']\n"
     ]
    }
   ],
   "source": [
    "#Python Program to Remove the ith Occurrence of the Given Word in a List where Words can Repeat\n",
    "remove = input(\"What word you want to remove?\")\n",
    "occ = int(input(\"What occurance of the word \" + remove + \" you want to remove?\"))\n",
    "l = [\"hello\", \"hi\", \"hello\", \"hi\", \"Bye\",\"hello\",\"Bye\",\"hello\",\"hello\",\"hi\", \"hi\"]\n",
    "if remove in l:\n",
    "    i = 0\n",
    "    cnt = 1\n",
    "    while i <= len(l):\n",
    "        if l[i] == remove:\n",
    "            if cnt == occ:\n",
    "                del l[i]\n",
    "                print(\"removed \" + remove + \" on occurance number \" + str(occ) + \" after \" + str(i) + \" iterations\")\n",
    "                break\n",
    "            else:\n",
    "                 cnt = cnt + 1\n",
    "        i = i+1\n",
    "    print(l)\n",
    "    \n",
    "    "
   ]
  },
  {
   "cell_type": "code",
   "execution_count": null,
   "metadata": {},
   "outputs": [],
   "source": [
    "#Python Program to Remove All Tuples in a List of Tuples with the USN Outside the Given Range"
   ]
  }
 ],
 "metadata": {
  "kernelspec": {
   "display_name": "Python 3",
   "language": "python",
   "name": "python3"
  },
  "language_info": {
   "codemirror_mode": {
    "name": "ipython",
    "version": 3
   },
   "file_extension": ".py",
   "mimetype": "text/x-python",
   "name": "python",
   "nbconvert_exporter": "python",
   "pygments_lexer": "ipython3",
   "version": "3.6.4"
  }
 },
 "nbformat": 4,
 "nbformat_minor": 2
}

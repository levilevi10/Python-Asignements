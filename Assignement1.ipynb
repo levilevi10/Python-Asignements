{
 "cells": [
  {
   "cell_type": "code",
   "execution_count": null,
   "metadata": {},
   "outputs": [],
   "source": [
    "#1. Write a Python program to display the current date and time.\n",
    "#Sample Output :\n",
    "#Current date and time :\n",
    "#2014-07-05 14:34:14\n",
    "        \n",
    "\n"
   ]
  },
  {
   "cell_type": "code",
   "execution_count": 6,
   "metadata": {},
   "outputs": [
    {
     "name": "stdout",
     "output_type": "stream",
     "text": [
      "What should the radius be?3\n",
      "The area of the cicle is (3, 126)\n"
     ]
    }
   ],
   "source": [
    "#2. Write a Python program which accepts the radius of a circle from the user and compute the area\n",
    "\n",
    "r = int(input(\"What should the radius be?\"))\n",
    "a = 3,14*r*r\n",
    "print(\"The area of the cicle is \" + str(a))\n",
    "\n"
   ]
  },
  {
   "cell_type": "code",
   "execution_count": null,
   "metadata": {},
   "outputs": [],
   "source": [
    "#3. Write a Python program to accept a filename from the user and print the extension of that.\n"
   ]
  },
  {
   "cell_type": "code",
   "execution_count": 7,
   "metadata": {},
   "outputs": [
    {
     "name": "stdout",
     "output_type": "stream",
     "text": [
      "What is the number of your choice?3\n",
      "39\n"
     ]
    }
   ],
   "source": [
    "#4. Write a Python program that accepts an integer (n) and computes the value of n+nn+nnn. \n",
    "\n",
    "n = int(input(\"What is the number of your choice?\"))\n",
    "\n",
    "value = n+n*n+n*n*n\n",
    "print(value)"
   ]
  },
  {
   "cell_type": "code",
   "execution_count": 8,
   "metadata": {},
   "outputs": [],
   "source": [
    "#5. Write a Python program to print the calendar of a given month and year.\n",
    "    \n",
    "    \n"
   ]
  },
  {
   "cell_type": "code",
   "execution_count": null,
   "metadata": {},
   "outputs": [],
   "source": [
    "#6. Write a Python program to calculate number of days between two dates.\n"
   ]
  },
  {
   "cell_type": "code",
   "execution_count": 30,
   "metadata": {},
   "outputs": [
    {
     "name": "stdout",
     "output_type": "stream",
     "text": [
      "The number of 4 in the list is 3\n"
     ]
    }
   ],
   "source": [
    "#7. Write a Python program to count the number 4 in a given list\n",
    "count4 = [1,2,3,5,6,7,54,3,34,3,3,4,5,5,4,5,5,4,3,22]\n",
    "i = 0 \n",
    "counter = 0\n",
    "while i < len(count4):\n",
    "    if count4[i] == 4:\n",
    "        counter = counter + 1 \n",
    "    i = i+1\n",
    "print(\"The number of 4 in the list is \" + str(counter))\n",
    "        \n"
   ]
  },
  {
   "cell_type": "code",
   "execution_count": null,
   "metadata": {},
   "outputs": [],
   "source": [
    "#8. Write a Python program to get the n (non-negative integer) copies of the first 2 characters of a given string. Return the n copies of the whole string if the length is less than 2.\n",
    "\n"
   ]
  },
  {
   "cell_type": "code",
   "execution_count": null,
   "metadata": {},
   "outputs": [],
   "source": [
    "#9. Write a Python program to create a histogram from a given list of integers.\n",
    "\n"
   ]
  },
  {
   "cell_type": "code",
   "execution_count": 19,
   "metadata": {},
   "outputs": [
    {
     "name": "stdout",
     "output_type": "stream",
     "text": [
      "[2, 5, 78, 9, 6, 4, 3, 6, 7]\n"
     ]
    }
   ],
   "source": [
    "#10. Write a Python program to filter the positive numbers from a list\n",
    "\n",
    "a = [2,5,78,9,6,4,3,6,7,-5,-3,-78,-1,-765,-3456,-12345]\n",
    "i = 0 \n",
    "b = []\n",
    "\n",
    "while i < len(a):\n",
    "    if a[i] > 0:\n",
    "        b.append(a[i])\n",
    "    i = i + 1\n",
    "print(b)"
   ]
  },
  {
   "cell_type": "code",
   "execution_count": 11,
   "metadata": {},
   "outputs": [
    {
     "name": "stdout",
     "output_type": "stream",
     "text": [
      "120\n"
     ]
    }
   ],
   "source": [
    "#11. Write a Python program to compute the product of a list of integers (without using for loop). \n",
    "\n",
    "a = [1,2,3,4,5]\n",
    "i = 0 \n",
    "b = 1\n",
    "while i < len(a):\n",
    "    b = b*a[i]\n",
    "    i = i + 1 \n",
    "print(b)\n"
   ]
  },
  {
   "cell_type": "code",
   "execution_count": null,
   "metadata": {},
   "outputs": [],
   "source": [
    "\n",
    "#12. Write a Python program to print Unicode characters. \n",
    "\n",
    "\n"
   ]
  },
  {
   "cell_type": "code",
   "execution_count": 21,
   "metadata": {},
   "outputs": [
    {
     "name": "stdout",
     "output_type": "stream",
     "text": [
      "1972708239712\n",
      "1972708239712\n"
     ]
    }
   ],
   "source": [
    "#13. Write a Python program to prove that two string variables of same value point same memory location. \n",
    "\n",
    "b = \"hello\"\n",
    "print(id(b))\n",
    "c = \"hello\"\n",
    "print(id(c))\n"
   ]
  },
  {
   "cell_type": "code",
   "execution_count": null,
   "metadata": {},
   "outputs": [],
   "source": [
    "#14. Write a Python program to create a bytearray from a list. \n",
    "\n",
    "\n"
   ]
  },
  {
   "cell_type": "code",
   "execution_count": null,
   "metadata": {},
   "outputs": [],
   "source": [
    "#15. Write a Python program to display a floating number in specified numbers. \n",
    "\n",
    "\n"
   ]
  },
  {
   "cell_type": "code",
   "execution_count": null,
   "metadata": {},
   "outputs": [],
   "source": [
    "#16. Write a Python program to format a specified string to limit the number of characters to 6. \n",
    "\n",
    "\n"
   ]
  },
  {
   "cell_type": "code",
   "execution_count": null,
   "metadata": {},
   "outputs": [],
   "source": [
    "17. Write a Python program to determine if variable is defined or not. \n",
    "\n",
    "18. Write a Python program to empty a variable without destroying it. \n",
    "Sample data: n=20\n",
    "d = {\"x\":200}\n",
    "Expected Output : 0\n",
    "{}\n",
    "\n",
    "19. Write a Python program to determine the largest and smallest integers, longs, floats. \n",
    "\n",
    "\n",
    "20. Write a Python program to check if multiple variables have the same value. \n",
    "\n",
    "\n",
    "21. Write a Python program to sum of all counts in a collections? \n",
    "\n",
    "\n",
    "22. Write a Python program to get the actual module object for a given object. \n",
    "\n",
    "\n",
    "23. Write a Python program to check if an integer fits in 64 bits. \n",
    "\n",
    "\n",
    "24. Write a Python program to check if lowercase letters exist in a string. \n",
    "\n",
    "25. Write a Python program to add leading zeroes to a string. \n",
    "\n",
    "26. Write a Python program to use double quotes to display strings. \n",
    "\n",
    "27. Write a Python program to split a variable length string into variables. \n",
    "\n",
    "28. Write a Python program to list home directory without absolute path. \n",
    "\n",
    "29. Write a Python program to calculate the time runs (difference between start and current time) of a program. \n",
    "\n",
    "30. Write a Python program to input two integers in a single line. \n",
    "\n",
    "\n",
    "31. Write a Python program to print a variable without spaces between values. \n",
    "Sample value : x =30\n",
    "Expected output : Value of x is \"30\"\n",
    "\n",
    "32. Write a Python program to find files and skip directories of a given directory. \n",
    "\n",
    "\n",
    "33. Write a Python program to extract single key-value pair of a dictionary in variables. \n",
    "\n",
    "34. Write a Python program to convert true to 1 and false to 0. \n",
    "\n",
    "35. Write a Python program to valid a IP address. \n",
    "\n",
    "36. Write a Python program to convert an integer to binary keep leading zeros. \n",
    "Sample data : 50\n",
    "Expected output : 00001100, 0000001100\n",
    "\n",
    "37. Write a python program to convert decimal to hexadecimal. \n",
    "Sample decimal number: 30, 4\n",
    "Expected output: 1e, 04\n",
    "\n",
    "38. Write a Python program to find the operating system name, platform and platform release date. \n",
    "Operating system name:\n",
    "posix\n",
    "Platform name:\n",
    "Linux\n",
    "Platform release:\n",
    "4.4.0-47-generic\n",
    "\n",
    "39. Write a Python program to determine if the python shell is executing in 32bit or 64bit mode on operating system. \n",
    "\n",
    "\n",
    "40. Write a Python program to check if variable is of integer or string. \n",
    "\n",
    "41. Write a Python program to find the operating system name, platform and platform release date. \n",
    "Operating system name:\n",
    "posix\n",
    "Platform name:\n",
    "Linux\n",
    "Platform release:\n",
    "4.4.0-47-generic\n",
    "\n",
    "42. Write a Python program to find the location of Python module sources. \n",
    "Operating system name:\n",
    "posix\n",
    "Platform name:\n",
    "Linux\n",
    "Platform release:\n",
    "4.4.0-47-generic\n",
    "\n",
    "43. Write a Python function to check whether a number is divisible by another number. Accept two integers values form the user. \n",
    "\n",
    "44. Write a Python function to find the maximum and minimum numbers from a sequence of numbers. \n",
    "Note: Do not use built-in functions.\n",
    "\n",
    "\n",
    "45. Write a Python function that takes a positive integer and returns the sum of the cube of all the positive integers smaller than the specified number. \n",
    "\n",
    "46. Write a Python function to find a distinct pair of numbers whose product is odd from a sequence of integer values. \n",
    "\n",
    "47. Write a Python function that takes a sequence of numbers and determines if all the numbers are different from each other. \n",
    "\n",
    "48. Write a Python program to create all possible strings by using 'a', 'e', 'i', 'o', 'u'. Use the characters exactly once. \n",
    "\n",
    "\n",
    "49. Write a Python program to remove and print every third number from a list of numbers until the list becomes empty.\n",
    "\n",
    "\n",
    "50. Write a Python program to find unique triplets whose three elements gives the sum of zero from an array of n integers. \n",
    "\n",
    "\n",
    "51. Write a Python program to create the combinations of 3 digit combo. \n",
    "\n",
    "\n",
    "52. Write a Python program to print a long text, convert the string to a list and print all the words and their frequencies. \n",
    "\n",
    "\n",
    "53. Write a Python program to count the number of each character of a given text of a text file. \n",
    "\n",
    "\n",
    "54. Write a Python program to get the top stories from Google news. \n",
    "\n",
    "\n",
    "55. Write a Python program to get a list of locally installed Python modules. \n",
    "\n",
    "\n",
    "56. Write a Python program to display some information about the OS where the script is running. \n",
    "\n",
    "\n",
    "57. Write a Python program to check the sum of three elements (each from an array) from three arrays is equal to a target value. Print all those three-element combinations. \n",
    "Sample data:\n",
    "/*\n",
    "X = [10, 20, 20, 20]\n",
    "Y = [10, 20, 30, 40]\n",
    "Z = [10, 30, 40, 20]\n",
    "target = 70\n",
    "*/\n",
    "\n",
    "\n",
    "58. Write a Python program to create all possible permutations from a given collection of distinct numbers.\n",
    "\n",
    "\n",
    "59. Write a Python program to get all possible two digit letter combinations from a digit (1 to 9) string. \n",
    "string_maps = {\n",
    "\"1\": \"abc\",\n",
    "\"2\": \"def\",\n",
    "\"3\": \"ghi\",\n",
    "\"4\": \"jkl\",\n",
    "\"5\": \"mno\",\n",
    "\"6\": \"pqrs\",\n",
    "\"7\": \"tuv\",\n",
    "\"8\": \"wxy\",\n",
    "\"9\": \"z\"\n",
    "}\n",
    "\n",
    "\n",
    "60. Write a Python program to add two positive integers without using the '+' operator. \n",
    "Note: Use bitwise operations to add two numbers.\n",
    "\n",
    "\n",
    "61. Write a Python program to check the priority of the four operators (+, -, *, /). \n",
    "\n",
    "\n",
    "62. Write a Python program to get the third side of right angled triangle from two given sides. \n",
    "\n",
    "\n",
    "63. Write a Python program to get all strobogrammatic numbers that are of length n. \n",
    "A strobogrammatic number is a number whose numeral is rotationally symmetric, so that it appears the same when rotated 180 degrees. In other words, the numeral looks the same right-side up and upside down (e.g., 69, 96, 1001).\n",
    "For example,\n",
    "Given n = 2, return [\"11\", \"69\", \"88\", \"96\"].\n",
    "Given n = 3, return ['818', '111', '916', '619', '808', '101', '906', '609', '888', '181', '986', '689']"
   ]
  },
  {
   "cell_type": "code",
   "execution_count": null,
   "metadata": {},
   "outputs": [],
   "source": []
  },
  {
   "cell_type": "code",
   "execution_count": null,
   "metadata": {},
   "outputs": [],
   "source": []
  },
  {
   "cell_type": "code",
   "execution_count": null,
   "metadata": {},
   "outputs": [],
   "source": []
  },
  {
   "cell_type": "code",
   "execution_count": null,
   "metadata": {},
   "outputs": [],
   "source": []
  },
  {
   "cell_type": "code",
   "execution_count": null,
   "metadata": {},
   "outputs": [],
   "source": []
  },
  {
   "cell_type": "code",
   "execution_count": null,
   "metadata": {},
   "outputs": [],
   "source": []
  },
  {
   "cell_type": "code",
   "execution_count": null,
   "metadata": {},
   "outputs": [],
   "source": []
  },
  {
   "cell_type": "code",
   "execution_count": null,
   "metadata": {},
   "outputs": [],
   "source": []
  },
  {
   "cell_type": "code",
   "execution_count": null,
   "metadata": {},
   "outputs": [],
   "source": []
  }
 ],
 "metadata": {
  "kernelspec": {
   "display_name": "Python 3",
   "language": "python",
   "name": "python3"
  },
  "language_info": {
   "codemirror_mode": {
    "name": "ipython",
    "version": 3
   },
   "file_extension": ".py",
   "mimetype": "text/x-python",
   "name": "python",
   "nbconvert_exporter": "python",
   "pygments_lexer": "ipython3",
   "version": "3.6.4"
  }
 },
 "nbformat": 4,
 "nbformat_minor": 2
}

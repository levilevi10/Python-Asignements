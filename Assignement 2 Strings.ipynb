{
 "cells": [
  {
   "cell_type": "code",
   "execution_count": 1,
   "metadata": {},
   "outputs": [
    {
     "name": "stdout",
     "output_type": "stream",
     "text": [
      "this is a change\n"
     ]
    }
   ],
   "source": [
    "#Python on Strings\n",
    "print(\"this is a change\")\n",
    "\n",
    "\n",
    "\n",
    "\n"
   ]
  },
  {
   "cell_type": "code",
   "execution_count": 2,
   "metadata": {},
   "outputs": [
    {
     "name": "stdout",
     "output_type": "stream",
     "text": [
      "wh$ts up with the met$ right now $nd $g$in\n"
     ]
    }
   ],
   "source": [
    "#Python Program to Replace all Occurrences of ‘a’ with $ in a String\n",
    "s = \"whats up with the meta right now and again\"\n",
    "b = s.replace(\"a\", \"$\")\n",
    "print(b)"
   ]
  },
  {
   "cell_type": "code",
   "execution_count": 5,
   "metadata": {},
   "outputs": [
    {
     "name": "stdout",
     "output_type": "stream",
     "text": [
      "helo\n"
     ]
    }
   ],
   "source": [
    "#Python Program to Remove the nth Index Character from a Non-Empty String\n",
    "s = \"hello\"\n",
    "n = 3\n",
    "b = []\n",
    "if n <= len(s):\n",
    "    l = list(s)\n",
    "    i = 0\n",
    "    while i < len(l):\n",
    "        if i != n:\n",
    "            b.append(l[i])\n",
    "            #print(i)\n",
    "        i = i +1\n",
    "    c = \"\".join(b)\n",
    "        \n",
    "    print(c)\n"
   ]
  },
  {
   "cell_type": "code",
   "execution_count": 7,
   "metadata": {},
   "outputs": [
    {
     "name": "stdout",
     "output_type": "stream",
     "text": [
      "is no anagram\n"
     ]
    }
   ],
   "source": [
    "#Python Program to Detect if Two Strings are Anagrams\n",
    "l = \"abcae\"\n",
    "m = \"edcba\"\n",
    "l1 = list(l)\n",
    "m1 = list(m)\n",
    "m1.sort()\n",
    "l1.sort()\n",
    "if l1 == m1:\n",
    "    print(\"is anagram\")\n",
    "else:\n",
    "    print(\"is no anagram\")\n",
    "                "
   ]
  },
  {
   "cell_type": "code",
   "execution_count": 10,
   "metadata": {},
   "outputs": [
    {
     "name": "stdout",
     "output_type": "stream",
     "text": [
      "oellh\n"
     ]
    }
   ],
   "source": [
    "#Python Program to Form a New String where the First Character and the Last Character have been Exchanged\n",
    "k = \"hello\"\n",
    "k1 = list(k)\n",
    "knew1 = k[-1]\n",
    "knew2 = k[0]\n",
    "k1[0] = knew1\n",
    "k1[-1] = knew2\n",
    "k2 = \"\".join(k1)\n",
    "print(k2)"
   ]
  },
  {
   "cell_type": "code",
   "execution_count": 11,
   "metadata": {},
   "outputs": [
    {
     "name": "stdout",
     "output_type": "stream",
     "text": [
      "6\n"
     ]
    }
   ],
   "source": [
    "#Python Program to Count the Number of Vowels in a String\n",
    "s = \"hello this is a test\"\n",
    "b = \"aeiou\"\n",
    "c = 0\n",
    "for i in s:\n",
    "    if i in b:\n",
    "        c = c +1 \n",
    "print(c)"
   ]
  },
  {
   "cell_type": "code",
   "execution_count": 48,
   "metadata": {},
   "outputs": [
    {
     "name": "stdout",
     "output_type": "stream",
     "text": [
      "this-is-a-sentence\n"
     ]
    }
   ],
   "source": [
    "#Python Program to Take in a String and Replace Every Blank Space with Hyphen\n",
    "s = \"this is a sentence\"\n",
    "s1 = s.replace(\" \", \"-\")\n",
    "print(s1)\n"
   ]
  },
  {
   "cell_type": "code",
   "execution_count": 12,
   "metadata": {},
   "outputs": [
    {
     "name": "stdout",
     "output_type": "stream",
     "text": [
      "10\n"
     ]
    }
   ],
   "source": [
    "#Python Program to Calculate the Length of a String Without Using a Library Function\n",
    "s = \"helldssffo\"\n",
    "i = 0\n",
    "\n",
    "s1 = list(s)\n",
    "while s[i] != s[-1]:\n",
    "    i = i + 1\n",
    "print(i+1)"
   ]
  },
  {
   "cell_type": "code",
   "execution_count": 53,
   "metadata": {},
   "outputs": [
    {
     "name": "stdout",
     "output_type": "stream",
     "text": [
      "13579\n"
     ]
    }
   ],
   "source": [
    "#Python Program to Remove the Characters of Odd Index Values in a String\n",
    "s = \"123456789\"\n",
    "s1 = s[::2]\n",
    "print(s1)"
   ]
  },
  {
   "cell_type": "code",
   "execution_count": 13,
   "metadata": {},
   "outputs": [
    {
     "name": "stdout",
     "output_type": "stream",
     "text": [
      "18 4\n"
     ]
    }
   ],
   "source": [
    "#Python Program to Calculate the Number of Words and the Number of Characters Present in a String\n",
    "s = \"hello what is this\"\n",
    "s1 = list(s)\n",
    "s2 = s.split(\" \")\n",
    "c1 = len(s1)\n",
    "c2 = len(s2)\n",
    "print(c1, c2)"
   ]
  },
  {
   "cell_type": "code",
   "execution_count": 66,
   "metadata": {},
   "outputs": [
    {
     "name": "stdout",
     "output_type": "stream",
     "text": [
      "helldssffo\n"
     ]
    }
   ],
   "source": [
    "#Python Program to Take in Two Strings and Display the Larger String without Using Built-in Functions\n",
    "s = \"helldssffo\"\n",
    "b = \"whatsup\"\n",
    "i, c = 0, 0\n",
    "\n",
    "\n",
    "s1 = list(s)\n",
    "while s[i] != s[-1]:\n",
    "    i = i + 1\n",
    "b1 = list(b)\n",
    "while b[c] != b[-1]:\n",
    "    c = c + 1\n",
    "if c < i:\n",
    "    print(s)\n",
    "elif i < c:\n",
    "    print(b)\n",
    "else:\n",
    "    print(\"Both strings same length\")"
   ]
  },
  {
   "cell_type": "code",
   "execution_count": 14,
   "metadata": {},
   "outputs": [
    {
     "name": "stdout",
     "output_type": "stream",
     "text": [
      "11\n"
     ]
    }
   ],
   "source": [
    "#Python Program to Count Number of Lowercase Characters in a String\n",
    "s = \"hhhhjgfdHHHdddDDD  \"\n",
    "s1 = list(s)\n",
    "c = 0\n",
    "for i in s1:\n",
    "    if i.islower() == True:\n",
    "        c = c + 1\n",
    "print(c)"
   ]
  },
  {
   "cell_type": "code",
   "execution_count": 162,
   "metadata": {},
   "outputs": [
    {
     "name": "stdout",
     "output_type": "stream",
     "text": [
      "4\n",
      "z\n",
      "t\n",
      "e\n",
      "n\n",
      "Is Palindrom\n"
     ]
    }
   ],
   "source": [
    "#Python Program to Check if a String is a Palindrome or Not\n",
    "\n",
    "s = \"zzTennetzz\"\n",
    "s1 = s.lower()\n",
    "c = len(s1)%2\n",
    "i = 0\n",
    "z = 1\n",
    "if c == 1:\n",
    "    n = len(s1)//2\n",
    "    print(n)\n",
    "    while i != n:\n",
    "        if s1[i] == s1[-z]:\n",
    "            i += 1\n",
    "            z += 1\n",
    "            print(s1[i])\n",
    "        else:\n",
    "            print(\"no Palindrom\")\n",
    "            break\n",
    "    print(\"Is Palindrom\")\n",
    "# ToDo: Odd Strings \n",
    "elif c == 0:\n",
    "    n = len(s1)//2\n",
    "    i = n+1\n",
    "    print(n)\n",
    "    while i != n:\n",
    "        if \n"
   ]
  },
  {
   "cell_type": "code",
   "execution_count": 15,
   "metadata": {},
   "outputs": [
    {
     "name": "stdout",
     "output_type": "stream",
     "text": [
      "11 6\n"
     ]
    }
   ],
   "source": [
    "#Python Program to Calculate the Number of Upper Case Letters and Lower Case Letters in a String\n",
    "s = \"hhhhjgfdHHHdddDDD  \"\n",
    "s1 = list(s)\n",
    "l,u = 0,0\n",
    "for i in s1:\n",
    "    if i.islower() == True:\n",
    "        l = l + 1\n",
    "    elif i.isupper() == True:\n",
    "        u = u +1 \n",
    "print(l, u)"
   ]
  },
  {
   "cell_type": "code",
   "execution_count": 117,
   "metadata": {},
   "outputs": [
    {
     "name": "stdout",
     "output_type": "stream",
     "text": [
      "is no Pangram\n",
      "['.', 'a', 'b', 'c', 'd', 'e', 'f', 'g', 'h', 'i', 'j', 'k', 'l', 'm', 'n', 'o', 'p', 'q', 'r', 's', 't', 'u', 'v', 'w', 'x', 'y', 'z'] {'y', 't', 'k', 'x', 'w', 'i', 'm', 'j', 'b', 'p', 'n', 'h', 'd', 'c', 'q', 'z', 'o', 's', 'e', 'g', 'r', 'u', 'v', 'l', 'a', 'f'}\n"
     ]
    }
   ],
   "source": [
    "#Python Program to Check if a String is a Pangram or Not\n",
    "abc = \"abcdefghijklmnopqrstuvwxyz\"\n",
    "s = \"The quick brown fox jumps over the lazy dog\"\n",
    "s2 = s.replace(\" \", \"\")\n",
    "s1 = list(s2.lower())\n",
    "s1.sort()\n",
    "s2 = set(s1)\n",
    "s3 = sorted(s2)\n",
    "abc1 = set(abc)\n",
    "abc2 = sorted(abc1)\n",
    "if abc2 == s3:\n",
    "    print(\"Is Pangram\")\n",
    "else:\n",
    "    print(\"is no Pangram\")\n",
    "\n",
    "print(s3,abc1)"
   ]
  },
  {
   "cell_type": "code",
   "execution_count": 16,
   "metadata": {},
   "outputs": [
    {
     "name": "stdout",
     "output_type": "stream",
     "text": [
      "a-are-belonging-choice-hello-large-my-of-sentence-some-these-to-words-\n"
     ]
    }
   ],
   "source": [
    "#Python Program to Accept a Hyphen Separated Sequence of Words as Input and Print the Words in a Hyphen-Separated Sequence after Sorting them Alphabetically\n",
    "s = \"hello-these-are-some-words-of-my-choice-belonging-to-a-large-sentence\"\n",
    "s1 = s.split(\"-\")\n",
    "s2 = sorted(s1)\n",
    "s3 = \"\"\n",
    "for i in s2:\n",
    "    s3 = s3 + i + \"-\"\n",
    "print(s3)"
   ]
  },
  {
   "cell_type": "code",
   "execution_count": 17,
   "metadata": {},
   "outputs": [
    {
     "name": "stdout",
     "output_type": "stream",
     "text": [
      "18 8\n"
     ]
    }
   ],
   "source": [
    "#Python Program to Calculate the Number of Digits and Letters in a String\n",
    "s = \"adsfasg67afd8afd68a87df8af\"\n",
    "n, d = 0,0\n",
    "for i in s:\n",
    "    if i.isdigit() == True:\n",
    "        d = d + 1 \n",
    "    else:\n",
    "        n = n +1 \n",
    "print(n, d)"
   ]
  },
  {
   "cell_type": "code",
   "execution_count": 18,
   "metadata": {},
   "outputs": [
    {
     "name": "stdout",
     "output_type": "stream",
     "text": [
      "goey\n"
     ]
    }
   ],
   "source": [
    "#Python Program to Form a New String Made of the First 2 and Last 2 characters From a Given String\n",
    "s2 = \"goodbye\"\n",
    "s3 = s2[0] + s2[1] + s2[-1] + s2[-2]\n",
    "print(s3)"
   ]
  },
  {
   "cell_type": "code",
   "execution_count": 19,
   "metadata": {},
   "outputs": [
    {
     "name": "stdout",
     "output_type": "stream",
     "text": [
      "{'these': 1, 'are': 1, 'differend': 1, 'words': 2, 'in': 5, 'a': 3, 'sentence': 2, 'with': 1, 'more': 1, 'same': 1, '': 1}\n"
     ]
    }
   ],
   "source": [
    "#Python Program to Count the Occurrences of Each Word in a Given String Sentence\n",
    "s = \"These are differend words in a sentence with more words in a same sentence in in in a \"\n",
    "s1 = s.lower()\n",
    "s2 = s1.split(\" \")\n",
    "d = {}\n",
    "for i in s2:\n",
    "    if i not in d:\n",
    "        d[i] = 0\n",
    "    if i in d:\n",
    "        d[i] += 1\n",
    "print(d)\n"
   ]
  },
  {
   "cell_type": "code",
   "execution_count": 20,
   "metadata": {},
   "outputs": [
    {
     "name": "stdout",
     "output_type": "stream",
     "text": [
      "Is present\n"
     ]
    }
   ],
   "source": [
    "#Python Program to Check if a Substring is Present in a Given String\n",
    "s = \"alibababutschakka\"\n",
    "sub = \"ba\"\n",
    "if s.find(sub) < 0:\n",
    "    print(\"Is not present\")\n",
    "else:\n",
    "    print(\"Is present\")\n"
   ]
  },
  {
   "cell_type": "code",
   "execution_count": null,
   "metadata": {},
   "outputs": [],
   "source": []
  }
 ],
 "metadata": {
  "kernelspec": {
   "display_name": "Python 3",
   "language": "python",
   "name": "python3"
  },
  "language_info": {
   "codemirror_mode": {
    "name": "ipython",
    "version": 3
   },
   "file_extension": ".py",
   "mimetype": "text/x-python",
   "name": "python",
   "nbconvert_exporter": "python",
   "pygments_lexer": "ipython3",
   "version": "3.6.4"
  }
 },
 "nbformat": 4,
 "nbformat_minor": 2
}
